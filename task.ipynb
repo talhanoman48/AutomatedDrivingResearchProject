{
 "cells": [
  {
   "attachments": {},
   "cell_type": "markdown",
   "metadata": {},
   "source": [
    "# *Task* - Simulation-Based Performance Study of Semantic Image Segmentation"
   ]
  },
  {
   "attachments": {},
   "cell_type": "markdown",
   "metadata": {},
   "source": [
    "## Summary\n",
    "\n",
    "Study the effect of domain shifts on a neural network for semantic image segmentation (or another perception task) by training a model on synthetic data and validating it against different domains in simulation.\n",
    "\n",
    "- [Background and Motivation](#background-and-motivation)\n",
    "- [Task](#task)\n",
    "- [Required Tools and Data](#required-tools-and-data)\n",
    "- [Hints](#Hints)"
   ]
  },
  {
   "attachments": {},
   "cell_type": "markdown",
   "metadata": {},
   "source": [
    "## Background and Motivation\n",
    "\n",
    "Simulation is an important tool for accelerating development and research of automated driving functions. One of its main advantages is that simulation allows to cost-efficiently generate synthetic raw and ground-truth data, e.g., for training neural networks for perception. Transferring models trained on synthetic data to the real-world, while retaining their generalizing applicability, is an open field of research, commonly referred to as sim-to-real domain adaptation. The effect of certain types of domain shifts between training and testing data, however, can also be studied in simulation only. If a model is trained on synthetic data recorded in urban areas only, how well does it perform in rural areas? If a model is trained on synthetic data during sunny days only, how well does it perform when it is raining? Such questions can be assessed by carefully building multiple training and validation/testing datasets and evaluating trained models on those. For the immediate identification of critical scenarios with bad performance, it also makes sense to monitor key performance metrics during live simulation.\n",
    "\n",
    "![carlos](https://github.com/ika-rwth-aachen/carlos/blob/main/utils/images/demo.gif?raw=true)"
   ]
  },
  {
   "attachments": {},
   "cell_type": "markdown",
   "metadata": {},
   "source": [
    "## Task\n",
    "\n",
    "The task is to study the effect of domain shifts on a neural network for semantic image segmentation (or another perception task) by training a model on synthetic data and validating it against different domains in simulation.\n",
    "\n",
    "### Subtasks\n",
    "\n",
    "> ***Note:*** *The subtasks listed below do not have to be followed strictly. They serve the purpose of guiding you along your own research for this topic.*\n",
    "\n",
    "1. Generate a synthetic training dataset for semantic image segmentation using the CARLOS simulation framework based on CARLA.\n",
    "1. Generate multiple synthetic validation datasets covering different domain shifts in comparison to the training dataset.\n",
    "   - same streets, different dynamic objects (none, few, many)\n",
    "   - different streets\n",
    "   - different environments (urban, rural, highway)\n",
    "   - different weather and lighting conditions\n",
    "   - different cameras and mounting positions\n",
    "   - ...\n",
    "1. Implement a TensorFlow (or PyTorch) data pipeline for loading and pre-processing the datasets.\n",
    "1. Implement a TensorFlow (or PyTorch) model for semantic image segmentation.\n",
    "1. Train a model for semantic image segmentation on the synthetic training dataset.\n",
    "1. Quantitatively evaluate the trained model on the different validation dtaasets.\n",
    "1. Implement a ROS 2 node for live-operation of the trained model.\n",
    "1. Implement a ROS 2 evaluation node for live-computation and evaluation of the model performance based on the model's prediction and the simulation's ground truth.\n",
    "   - mIoU-Plot over time\n",
    "   - probabilities per semantic class as images\n",
    "   - ...\n",
    "1. Document your research, developed approach, and evaluations in a Jupyter notebook report. Explain and reproduce individual parts of your implemented functions with exemplary data."
   ]
  },
  {
   "attachments": {},
   "cell_type": "markdown",
   "metadata": {},
   "source": [
    "## Required Tools and Data\n",
    "\n",
    "### Tools\n",
    "\n",
    "- [CARLOS based on the CARLA simulation software](https://github.com/ika-rwth-aachen/carlos)\n",
    "- TensorFlow/PyTorch\n",
    "- *(optional)* Image Segmentation Training Pipeline & Model *(see [ACDC Exercise: Semantic Image Segmentation](https://github.com/ika-rwth-aachen/acdc-notebooks/blob/main/section_2_sensor_data_processing/1_semantic_image_segmentation.ipynb))*\n",
    "\n",
    "### Data\n",
    "\n",
    "- *(to be generated)* synthetic image segmentation datasets for training and validation"
   ]
  },
  {
   "attachments": {},
   "cell_type": "markdown",
   "metadata": {},
   "source": [
    "## Hints\n",
    "\n",
    "### Relevant ACDC Sections\n",
    "\n",
    "- **Sensor Data Processing Algorithms**\n",
    "  - Image Segmentation"
   ]
  }
 ],
 "metadata": {
  "interpreter": {
   "hash": "f35c820e40155ce3a3d6b6baab4aa8cb626eff9596fe63e71a966e5e0dc1513e"
  },
  "kernelspec": {
   "display_name": "Python 3 (ipykernel)",
   "language": "python",
   "name": "python3"
  },
  "language_info": {
   "codemirror_mode": {
    "name": "ipython",
    "version": 3
   },
   "file_extension": ".py",
   "mimetype": "text/x-python",
   "name": "python",
   "nbconvert_exporter": "python",
   "pygments_lexer": "ipython3",
   "version": "3.9.6"
  }
 },
 "nbformat": 4,
 "nbformat_minor": 4
}
