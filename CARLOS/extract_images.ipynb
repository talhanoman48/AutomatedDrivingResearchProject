{
 "cells": [
  {
   "cell_type": "code",
   "execution_count": 8,
   "id": "02808670-1e11-489c-855c-b66c255e46a3",
   "metadata": {},
   "outputs": [],
   "source": [
    "import os"
   ]
  },
  {
   "cell_type": "code",
   "execution_count": 9,
   "id": "1ca13cbe-f46e-4327-b988-7e3712cccb47",
   "metadata": {},
   "outputs": [],
   "source": [
    "folder_path='/home/jsy/shengyao_dataset/bags'\n",
    "dirs=os.listdir('/home/jsy/shengyao_dataset/bags')\n",
    "dir_paths=[]\n",
    "for dir in dirs:\n",
    "    dir_path=os.path.join(folder_path,dir)\n",
    "    dir_paths.append(dir_path)\n",
    "# file_paths=[]\n",
    "# for foldername, subfolders, filenames in os.walk(folder_path):\n",
    "#     for filename in filenames:\n",
    "#         file_path = os.path.join(foldername, filename)\n",
    "#         file_paths.append(file_path)"
   ]
  },
  {
   "cell_type": "code",
   "execution_count": 10,
   "id": "bc8cedc6-c670-4ce9-aac2-6939cf30c3e9",
   "metadata": {},
   "outputs": [],
   "source": [
    "import re"
   ]
  },
  {
   "cell_type": "code",
   "execution_count": 11,
   "id": "dab5019d-124b-4ce7-beba-314b92c8f71e",
   "metadata": {},
   "outputs": [
    {
     "data": {
      "text/plain": [
       "'1_Town10HD_0.2_200_SoftRainNoon'"
      ]
     },
     "execution_count": 11,
     "metadata": {},
     "output_type": "execute_result"
    }
   ],
   "source": [
    "pattern='(.*?)_2024'\n",
    "re.search(pattern, dirs[0], flags=0).group(1)"
   ]
  },
  {
   "cell_type": "code",
   "execution_count": 12,
   "id": "d5646137-8cd1-4105-8013-ff38a07f96bc",
   "metadata": {},
   "outputs": [
    {
     "data": {
      "text/plain": [
       "['1_Town10HD_0.2_200_SoftRainNoon_2024-09-08-21-04',\n",
       " '2_Town10HD_0.2_200_SoftRainNoon_2024-09-08-21-06',\n",
       " '3_Town10HD_0.2_200_SoftRainNoon_2024-09-08-21-08']"
      ]
     },
     "execution_count": 12,
     "metadata": {},
     "output_type": "execute_result"
    }
   ],
   "source": [
    "dirs"
   ]
  },
  {
   "cell_type": "code",
   "execution_count": 13,
   "id": "9e5babf3-1bdc-4cf0-9a05-85994a5bf242",
   "metadata": {},
   "outputs": [],
   "source": [
    "from rosbags.rosbag2 import Reader\n",
    "from rosbags.typesys import Stores, get_typestore\n",
    "import os\n",
    "import cv2\n",
    "from PIL import Image\n",
    "from rosbags.image import message_to_cvimage\n",
    "import numpy as np\n",
    "import random"
   ]
  },
  {
   "cell_type": "code",
   "execution_count": 14,
   "id": "19bba7bd-5ffa-4f99-872a-bc3413829a44",
   "metadata": {},
   "outputs": [
    {
     "name": "stdout",
     "output_type": "stream",
     "text": [
      "/carla/ego_vehicle/rgb/image sensor_msgs/msg/Image\n",
      "/carla/ego_vehicle/segmentation/image sensor_msgs/msg/Image\n",
      "/tf tf2_msgs/msg/TFMessage\n",
      "finished 1 datasets\n",
      "/carla/ego_vehicle/rgb/image sensor_msgs/msg/Image\n",
      "/carla/ego_vehicle/segmentation/image sensor_msgs/msg/Image\n",
      "/tf tf2_msgs/msg/TFMessage\n",
      "finished 2 datasets\n",
      "/carla/ego_vehicle/rgb/image sensor_msgs/msg/Image\n",
      "/carla/ego_vehicle/segmentation/image sensor_msgs/msg/Image\n",
      "/tf tf2_msgs/msg/TFMessage\n",
      "finished 3 datasets\n"
     ]
    }
   ],
   "source": [
    "folder_count=0\n",
    "for dir in dirs:\n",
    "    image_count=0\n",
    "    output_dir = '/home/jsy/val2_datasets'\n",
    "    source_dir='/home/jsy/shengyao_dataset/bags'\n",
    "    os.makedirs(output_dir, exist_ok=True)\n",
    "    pattern='(.*?)_2024'\n",
    "    folder_name=re.search(pattern, dir, flags=0).group(1)\n",
    "    output_dir_train_x=output_dir+f'/{folder_name}'+'/train_x'\n",
    "    output_dir_train_y=output_dir+f'/{folder_name}'+'/train_y'\n",
    "    output_dir_test_x=output_dir+f'/{folder_name}'+'/test_x'\n",
    "    output_dir_test_y=output_dir+f'/{folder_name}'+'/test_y'\n",
    "    os.makedirs(output_dir_train_x, exist_ok=True)\n",
    "    os.makedirs(output_dir_train_y, exist_ok=True)\n",
    "    os.makedirs(output_dir_test_x, exist_ok=True)\n",
    "    os.makedirs(output_dir_test_y, exist_ok=True)\n",
    "    # Create a typestore.\n",
    "    typestore = get_typestore(Stores.LATEST)\n",
    "    \n",
    "    \n",
    "    # Create reader instance and open for reading.\n",
    "    with Reader(os.path.join(source_dir,dir)) as reader:\n",
    "        # Topic and msgtype information is available on .connections list.\n",
    "        train_x = []\n",
    "        train_y = []\n",
    "        time1=0\n",
    "        time2=1\n",
    "        time1_prev=0\n",
    "        time2_prev=1\n",
    "        for connection in reader.connections:\n",
    "            print(connection.topic, connection.msgtype)\n",
    "        # Iterate over messages.\n",
    "        for connection, timestamp, rawdata in reader.messages():\n",
    "            if connection.topic == '/carla/ego_vehicle/rgb/image':\n",
    "                msg = typestore.deserialize_cdr(rawdata, connection.msgtype)\n",
    "                # get opencv image and convert to bgr8 color space\n",
    "                img = message_to_cvimage(msg, \"bgr8\")\n",
    "                im_rgb = cv2.cvtColor(img, cv2.COLOR_BGR2RGB)\n",
    "                time1 = msg.header.stamp.nanosec\n",
    "            else:\n",
    "                pass\n",
    "    \n",
    "            if connection.topic == '/carla/ego_vehicle/segmentation/image':\n",
    "                msg_2 = typestore.deserialize_cdr(rawdata, connection.msgtype)\n",
    "                # get opencv image and convert to bgr8 color space\n",
    "                img_2 = message_to_cvimage(msg_2, \"bgr8\")\n",
    "                im_rgb_2 = cv2.cvtColor(img_2, cv2.COLOR_BGR2RGB)\n",
    "                time2 = msg_2.header.stamp.nanosec\n",
    "            else:\n",
    "                 pass\n",
    "    \n",
    "            if time1==time2:\n",
    "                if time1 != time1_prev and time2 != time2_prev:\n",
    "                    if random.random()<=0.7:\n",
    "                        Image.fromarray(im_rgb).save(f'{output_dir_train_x}/image_{image_count:04d}.png')\n",
    "                        Image.fromarray(im_rgb_2).save(f'{output_dir_train_y}/image_{image_count:04d}.png')\n",
    "                        image_count+=1\n",
    "                        time1_prev = time1 \n",
    "                        time2_prev = time2\n",
    "                        #print(time1)\n",
    "                    else:\n",
    "                        Image.fromarray(im_rgb).save(f'{output_dir_test_x}/image_{image_count:04d}.png')\n",
    "                        Image.fromarray(im_rgb_2).save(f'{output_dir_test_y}/image_{image_count:04d}.png')\n",
    "                        image_count+=1\n",
    "                        time1_prev = time1 \n",
    "                        time2_prev = time2\n",
    "                        #print(time1) \n",
    "                else:\n",
    "                    pass\n",
    "            else:\n",
    "                pass\n",
    "        folder_count+=1\n",
    "        print('finished %d datasets' % folder_count)"
   ]
  },
  {
   "cell_type": "code",
   "execution_count": null,
   "id": "4207deba-699c-4cf8-b703-859bbe859a5a",
   "metadata": {},
   "outputs": [],
   "source": []
  }
 ],
 "metadata": {
  "kernelspec": {
   "display_name": "Python 3 (ipykernel)",
   "language": "python",
   "name": "python3"
  },
  "language_info": {
   "codemirror_mode": {
    "name": "ipython",
    "version": 3
   },
   "file_extension": ".py",
   "mimetype": "text/x-python",
   "name": "python",
   "nbconvert_exporter": "python",
   "pygments_lexer": "ipython3",
   "version": "3.8.10"
  }
 },
 "nbformat": 4,
 "nbformat_minor": 5
}
